{
 "cells": [
  {
   "cell_type": "markdown",
   "metadata": {},
   "source": [
    "Эта программа будет особенно полезна тем, кто учит языки. В ее арсенале есть несколько приемов, просто запустите код:"
   ]
  },
  {
   "cell_type": "code",
   "execution_count": null,
   "metadata": {},
   "outputs": [
    {
     "name": "stdout",
     "output_type": "stream",
     "text": [
      "Enter the number of the option you want to try: \n",
      "1 Conjugate a word (only french and english are available at this moment)\n",
      "2 See the definitions of an english word\n",
      "3 Translate\n",
      "3\n"
     ]
    }
   ],
   "source": [
    " from bs4 import BeautifulSoup\n",
    "import pandas as pd\n",
    "import numpy as np\n",
    "import requests\n",
    "from selenium import webdriver\n",
    "import imgkit\n",
    "\n",
    "\n",
    "def l_of_smth(tenses):\n",
    "    lis=''\n",
    "    for ten, s in enumerate(tenses,start = 1):\n",
    "        lis = lis + str(ten) + ' ' +  str(s) + '\\n'\n",
    "    return lis\n",
    "\n",
    "def gv(lst):\n",
    "    v = ''\n",
    "    if len(lst) > 1:\n",
    "        del lst[0]\n",
    "    for el in lst:\n",
    "        v += el\n",
    "    return v\n",
    "\n",
    "def conjugate():\n",
    "    language = input(\"Enter the language you are learning: \").lower() \n",
    "    if language not in list_of_languages:\n",
    "        print(\"We can't help you with this language. Please, try again or choose another one.\")\n",
    "    else:\n",
    "        word = input(\"Enter the word you want to conjugate: \")\n",
    "        url = 'http://conjugator.reverso.net/conjugation-{}-verb-{}.html'.format(language, word)\n",
    "        r = requests.get(url)\n",
    "        page = BeautifulSoup(r.text, 'html.parser')\n",
    "        blocks = [el for el in page('div') if el.get('class') == [\"blue-box-wrap\"]][0:(lang_tenses[language])] \n",
    "        tenses = [el.p.string for el in blocks]\n",
    "        verbs = [[[v.string for v in i('i')] for i in el('li')] for el in blocks]\n",
    "        if len(verbs) == 0:\n",
    "            print('Please, try again and check the word you entered.')\n",
    "        else:\n",
    "            if tenses[8] == 'Présent ':\n",
    "                tenses[8] = 'Présent conditionelle'\n",
    "            pronouns = [i[0] for i in verbs[0]]\n",
    "            all_forms = pd.DataFrame(verbs).transpose()\n",
    "            all_forms.columns = tenses\n",
    "            pronouns = dict(enumerate(pronouns))\n",
    "            all_forms.rename(index = pronouns, inplace = True)\n",
    "            all_forms = all_forms.applymap(lambda x: gv(x))\n",
    "            n_tense = int(input(\"Enter the number of the tense you want to get from the following list: \\n{}\".format(str(l_of_smth(tenses)))))  \n",
    "            if n_tense > lang_tenses[language]:\n",
    "                print('Please, try again and choose a tense from those presented.')\n",
    "            else:\n",
    "                return  str(all_forms[[tenses[n_tense-1]]])\n",
    "        \n",
    "def definitions():\n",
    "    browser = webdriver.Chrome('C:/Users/chromedriver.exe')\n",
    "    word = input(\"Enter the pharase you want to know about: \")\n",
    "    ref = 'https://en.oxforddictionaries.com/'\n",
    "    browser.get(ref)\n",
    "    text = browser.find_element_by_name('query')\n",
    "    text.click()\n",
    "    text.send_keys(word, u'\\ue007')\n",
    "    defs = browser.find_elements_by_class_name('ind')\n",
    "    defs = [el.text for el in defs]\n",
    "    if len(defs) != 0:\n",
    "        i = 0\n",
    "        print('{} may mean:'.format(word.title()))\n",
    "        for el in defs:\n",
    "            i += 1\n",
    "            l = str(i) + '.'\n",
    "            print(l, el)\n",
    "    else:\n",
    "        print(\"Please, try again. We didn't find exact matches for {}.\".format(word.title()))        \n",
    "\n",
    "def translate():\n",
    "    \n",
    "    u = 'https://tech.yandex.ru/translate/doc/dg/concepts/api-overview-docpage/#api-overview__languages'\n",
    "    x = requests.get(u)\n",
    "    pag = BeautifulSoup(x.text, 'html.parser')\n",
    "    lng = pag.tbody.findAll('td') \n",
    "    lng = [el.string for el in lng][:-2]\n",
    "    list_of_lang = []\n",
    "    n = 0\n",
    "    while len(lng) != 0:\n",
    "        list_of_lang.append((lng[0], lng[1]))\n",
    "        n += 1\n",
    "        del lng[0]\n",
    "        del lng[0]\n",
    "    list_of_lang = pd.DataFrame(list_of_lang)\n",
    "    col = ['language', 'code']\n",
    "    list_of_lang.columns = col\n",
    "    numbers = [str(el) for el in range(1, (n+1))]\n",
    "    numbers = dict(enumerate(numbers))\n",
    "    list_of_lang = list_of_lang.sort_values('language').reset_index(drop=True)\n",
    "    list_of_lang.rename(index = numbers, inplace = True)\n",
    "    list_of_lang.reset_index(level=0, inplace=True)\n",
    "    #list_of_lang_1 = list_of_lang[:(len(list_of_lang)//2)]\n",
    "    #list_of_lang_2 = list_of_lang[(len(list_of_lang)//2):]\n",
    "    #list_of_lang = pd.concat([list_of_lang_1, list_of_lang_1], axis =1)\n",
    "    lg_1 = input('Enter the number of the language you want to translate from: \\n{}'.format(list_of_lang.head(300)))\n",
    "    lg_1 = list_of_lang.at[lg_1, 'code']\n",
    "    lg_2 = input('Enter the number of the language you want to translate to: \\n{}'.format(list_of_lang.head(300)))\n",
    "    lg_2 = list_of_lang.at[lg_2, 'code']\n",
    "    word = input(\"Enter the pharase you want to translate: \")\n",
    "    to_from = \"{}-{}\".format(lg_1, lg_2)\n",
    "    params_ya = {\"key\": \"trnsl.1.1.20190414T173949Z.c4761fa3df2b7db3.431a5104851cbf9757c441ce90932806ec38f95c\", \"text\": word, \"lang\": to_from}\n",
    "    ya_js = requests.get(\"https://translate.yandex.net/api/v1.5/tr.json/translate\", params = params_ya).json()\n",
    "    trans = ya_js['text'][0] \n",
    "    print(trans)\n",
    "\n",
    "list_of_languages = ['french', \"english\"]\n",
    "lang_tenses = {'french': 11, \"english\": 12}\n",
    "lang_rus = {'french': 'французский', \"english\": \"английский\"}\n",
    "options = ['Conjugate a word (only french and english are available at this moment)', 'See the definitions of an english word', 'Translate']\n",
    "to_do = int(input(\"Enter the number of the option you want to try: \\n{}\".format(l_of_smth(options))))\n",
    "if to_do == 1:\n",
    "    print(conjugate())\n",
    "if to_do == 2:\n",
    "    definitions()\n",
    "if to_do == 3:\n",
    "    translate()"
   ]
  },
  {
   "cell_type": "code",
   "execution_count": 6,
   "metadata": {
    "scrolled": true
   },
   "outputs": [
    {
     "name": "stdout",
     "output_type": "stream",
     "text": [
      "Requirement already satisfied: vk_api in c:\\programdata\\anaconda3\\lib\\site-packages (11.4.0)\n",
      "Requirement already satisfied: enum34 in c:\\programdata\\anaconda3\\lib\\site-packages (from vk_api) (1.1.6)\n",
      "Requirement already satisfied: six in c:\\programdata\\anaconda3\\lib\\site-packages (from vk_api) (1.12.0)\n",
      "Requirement already satisfied: requests in c:\\programdata\\anaconda3\\lib\\site-packages (from vk_api) (2.21.0)\n",
      "Requirement already satisfied: chardet<3.1.0,>=3.0.2 in c:\\programdata\\anaconda3\\lib\\site-packages (from requests->vk_api) (3.0.4)\n",
      "Requirement already satisfied: idna<2.9,>=2.5 in c:\\programdata\\anaconda3\\lib\\site-packages (from requests->vk_api) (2.8)\n",
      "Requirement already satisfied: certifi>=2017.4.17 in c:\\programdata\\anaconda3\\lib\\site-packages (from requests->vk_api) (2018.11.29)\n",
      "Requirement already satisfied: urllib3<1.25,>=1.21.1 in c:\\programdata\\anaconda3\\lib\\site-packages (from requests->vk_api) (1.24.1)\n",
      "Requirement already satisfied: selenium in c:\\programdata\\anaconda3\\lib\\site-packages (3.141.0)\n",
      "Requirement already satisfied: urllib3 in c:\\programdata\\anaconda3\\lib\\site-packages (from selenium) (1.24.1)\n",
      "Requirement already satisfied: imgkit in c:\\programdata\\anaconda3\\lib\\site-packages (1.0.1)\n"
     ]
    }
   ],
   "source": [
    "import sys \n",
    "!\"{sys.executable}\" -m pip install vk_api\n",
    "import sys \n",
    "!\"{sys.executable}\" -m pip install selenium\n",
    "import sys \n",
    "!\"{sys.executable}\" -m pip install imgkit\n"
   ]
  },
  {
   "cell_type": "markdown",
   "metadata": {},
   "source": [
    "На курсе макроэкономики мы столкнулись с необходимостью построить регресссионную линию, для того чтобы отчистить данные о ВВП от шумов и смочь анализировать бизнес циклы.\n",
    "Поэтому кажется крайне полезным научиться строить линейную регрессию и искать параметры модели.\n",
    "Решая поставленную задачу методом наименьших квадратов мы приходим к нормальному уравнению.\n",
    "Тогда давайте рассмотрим функцию y=cos(x) + eps при x принадлежащем отрезку [0, 2pi], eps имеющем распределение N(0, 0.1). В качестве свойств случайной величины x рассмотрим x^0, x^1 .. x^n.\n",
    "Даввайте тогда напишем функцию, которая бы по значению n и по размеру обучающей выборки делала строила бы аппроксимизацию функции многочленом."
   ]
  },
  {
   "cell_type": "code",
   "execution_count": 1,
   "metadata": {},
   "outputs": [
    {
     "data": {
      "text/plain": [
       "<Figure size 640x480 with 1 Axes>"
      ]
     },
     "metadata": {},
     "output_type": "display_data"
    },
    {
     "data": {
      "text/plain": [
       "[1.5400356528142263,\n",
       " -1.537215119694892,\n",
       " 0.2930427002697793,\n",
       " -0.008877164844698526]"
      ]
     },
     "execution_count": 1,
     "metadata": {},
     "output_type": "execute_result"
    }
   ],
   "source": [
    "import numpy as np\n",
    "import matplotlib.pyplot as plt\n",
    "import random\n",
    "import math\n",
    "\n",
    "\n",
    "\n",
    "\n",
    "def train(samples, adj):\n",
    "    adj += 1;\n",
    "    sample = 628\n",
    "    x_cos = np.arange(sample) / 100\n",
    "    y_cos = np.cos(x_cos)\n",
    "    plt2 = plt.plot(x_cos, y_cos)    \n",
    "\n",
    "    x = [random.uniform(0, 2 * math.pi) for i in range(samples)]\n",
    "    x = np.array([[x[j] ** i for i in range(adj)] for j in range(samples)])\n",
    "    y = np.cos(x[:,1]) + np.random.normal(0, 0.1, samples)\n",
    "    w = np.zeros((1, adj))\n",
    "    w[0, :] = np.dot(np.linalg.inv(np.dot(x.T, x)), np.dot(x.T, y))\n",
    "    plt.scatter(x[:,1], y)\n",
    "    \n",
    "    sample = 628\n",
    "    x_linear = np.arange(sample) / 100\n",
    "    x_adj = np.zeros((adj, sample))\n",
    "    for i in range(adj):\n",
    "        x_adj[i,:] = x_linear ** i\n",
    "    y_linear = np.dot(w, x_adj).T\n",
    "\n",
    "    plt1 = plt.plot(x_linear, y_linear, color='cyan')\n",
    "    \n",
    "    \n",
    "    plt.show(plt1, plt2)\n",
    "\n",
    "    return(w.tolist()[0])\n",
    "\n",
    "train(20,3)"
   ]
  }
 ],
 "metadata": {
  "kernelspec": {
   "display_name": "Python 3",
   "language": "python",
   "name": "python3"
  }
 },
 "nbformat": 4,
 "nbformat_minor": 2
}
